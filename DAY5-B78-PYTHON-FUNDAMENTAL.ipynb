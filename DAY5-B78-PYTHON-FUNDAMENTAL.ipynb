{
 "cells": [
  {
   "cell_type": "code",
   "execution_count": null,
   "id": "eada480d",
   "metadata": {},
   "outputs": [],
   "source": [
    "ORGANISING THE LIST DATATYPE:"
   ]
  },
  {
   "cell_type": "code",
   "execution_count": 3,
   "id": "46a718b5",
   "metadata": {},
   "outputs": [],
   "source": [
    "fruites=['apple','banana','orange','mango','grapes','pineaple','papaya','watermelon']"
   ]
  },
  {
   "cell_type": "code",
   "execution_count": 4,
   "id": "108be816",
   "metadata": {},
   "outputs": [
    {
     "name": "stdout",
     "output_type": "stream",
     "text": [
      "['apple', 'banana', 'orange', 'mango', 'grapes', 'pineaple', 'papaya', 'watermelon']\n"
     ]
    }
   ],
   "source": [
    "print(fruites)"
   ]
  },
  {
   "cell_type": "code",
   "execution_count": 5,
   "id": "423e2fca",
   "metadata": {},
   "outputs": [
    {
     "data": {
      "text/plain": [
       "list"
      ]
     },
     "execution_count": 5,
     "metadata": {},
     "output_type": "execute_result"
    }
   ],
   "source": [
    "type(fruites)"
   ]
  },
  {
   "cell_type": "code",
   "execution_count": null,
   "id": "a8fdc71e",
   "metadata": {},
   "outputs": [],
   "source": [
    "# i want to organise the list items in the alphabetical order  A---Z"
   ]
  },
  {
   "cell_type": "code",
   "execution_count": null,
   "id": "d6eb66ae",
   "metadata": {},
   "outputs": [],
   "source": [
    "there are two approaches to arrange the list items \n",
    "1. temporary approach:  temporary approach is a sorted , we will be having the original order of the list as we declare\n",
    "2. permanent approach:  permanent approach is a sort,all the changes are applied permanently to the list    "
   ]
  },
  {
   "cell_type": "code",
   "execution_count": 6,
   "id": "faa2af78",
   "metadata": {},
   "outputs": [
    {
     "name": "stdout",
     "output_type": "stream",
     "text": [
      "['apple', 'banana', 'grapes', 'mango', 'orange', 'papaya', 'pineaple', 'watermelon']\n"
     ]
    }
   ],
   "source": [
    "print(sorted(fruites))  # it is a temporary approach, this is the orginal order of the list"
   ]
  },
  {
   "cell_type": "code",
   "execution_count": 7,
   "id": "cae95017",
   "metadata": {},
   "outputs": [
    {
     "name": "stdout",
     "output_type": "stream",
     "text": [
      "['apple', 'banana', 'orange', 'mango', 'grapes', 'pineaple', 'papaya', 'watermelon']\n"
     ]
    }
   ],
   "source": [
    "print(fruites)"
   ]
  },
  {
   "cell_type": "code",
   "execution_count": 9,
   "id": "834b509c",
   "metadata": {},
   "outputs": [],
   "source": [
    "fruites.sort()     # it is a permanent approach, all the changes are applied to the list item "
   ]
  },
  {
   "cell_type": "code",
   "execution_count": 10,
   "id": "48de2b77",
   "metadata": {},
   "outputs": [
    {
     "name": "stdout",
     "output_type": "stream",
     "text": [
      "['apple', 'banana', 'grapes', 'mango', 'orange', 'papaya', 'pineaple', 'watermelon']\n"
     ]
    }
   ],
   "source": [
    "print(fruites)"
   ]
  },
  {
   "cell_type": "code",
   "execution_count": null,
   "id": "4403e95b",
   "metadata": {},
   "outputs": [],
   "source": [
    "INTERVIEW QUESTION:  WHAT IS THE DIFFERENT BETWEEN SORTED AND SORT METHOD IN THE LIST DATATYPE?\n",
    "    sorted is a temporary method we will be having the original order of the list as we declare\n",
    "    whilw sort is a permanent method all the changes are applied permanently to the list."
   ]
  },
  {
   "cell_type": "code",
   "execution_count": null,
   "id": "fd181b26",
   "metadata": {},
   "outputs": [],
   "source": [
    "# REQ: i want to reverse the order of the items in the list"
   ]
  },
  {
   "cell_type": "code",
   "execution_count": 11,
   "id": "3093b8e7",
   "metadata": {},
   "outputs": [],
   "source": [
    "fruites.reverse()   "
   ]
  },
  {
   "cell_type": "code",
   "execution_count": 12,
   "id": "ff6b0d8f",
   "metadata": {},
   "outputs": [
    {
     "name": "stdout",
     "output_type": "stream",
     "text": [
      "['watermelon', 'pineaple', 'papaya', 'orange', 'mango', 'grapes', 'banana', 'apple']\n"
     ]
    }
   ],
   "source": [
    "print(fruites)"
   ]
  },
  {
   "cell_type": "code",
   "execution_count": null,
   "id": "c397efdf",
   "metadata": {},
   "outputs": [],
   "source": [
    "# REQ : i want to count the number of the items in the list\n",
    "for this we have a len()"
   ]
  },
  {
   "cell_type": "code",
   "execution_count": 13,
   "id": "a326a9af",
   "metadata": {},
   "outputs": [
    {
     "data": {
      "text/plain": [
       "8"
      ]
     },
     "execution_count": 13,
     "metadata": {},
     "output_type": "execute_result"
    }
   ],
   "source": [
    "len(fruites)"
   ]
  },
  {
   "cell_type": "code",
   "execution_count": null,
   "id": "03e3d3d7",
   "metadata": {},
   "outputs": [],
   "source": [
    "INTRODUCTION TO SLICING:"
   ]
  },
  {
   "cell_type": "code",
   "execution_count": null,
   "id": "37947cb4",
   "metadata": {},
   "outputs": [],
   "source": [
    "GENERAL SYNTAX OF SLICING:\n",
    "    [startvalue:stopvalue:stepcount]    "
   ]
  },
  {
   "cell_type": "code",
   "execution_count": null,
   "id": "3c023b7a",
   "metadata": {},
   "outputs": [],
   "source": [
    "NOTE: always last value is exclusive,to include the last value to increament the index by +1"
   ]
  },
  {
   "cell_type": "code",
   "execution_count": null,
   "id": "175acf53",
   "metadata": {},
   "outputs": [],
   "source": [
    "#REQ : I want to include watermelon and pineaple in the slice."
   ]
  },
  {
   "cell_type": "code",
   "execution_count": 14,
   "id": "c320a5ca",
   "metadata": {},
   "outputs": [
    {
     "name": "stdout",
     "output_type": "stream",
     "text": [
      "['watermelon']\n"
     ]
    }
   ],
   "source": [
    "print(fruites[0:1])"
   ]
  },
  {
   "cell_type": "code",
   "execution_count": 15,
   "id": "6ae3c52b",
   "metadata": {},
   "outputs": [
    {
     "name": "stdout",
     "output_type": "stream",
     "text": [
      "['watermelon', 'pineaple']\n"
     ]
    }
   ],
   "source": [
    "print(fruites[0:2])"
   ]
  },
  {
   "cell_type": "code",
   "execution_count": 16,
   "id": "ae56a9bd",
   "metadata": {},
   "outputs": [
    {
     "ename": "ValueError",
     "evalue": "slice step cannot be zero",
     "output_type": "error",
     "traceback": [
      "\u001b[1;31m---------------------------------------------------------------------------\u001b[0m",
      "\u001b[1;31mValueError\u001b[0m                                Traceback (most recent call last)",
      "Cell \u001b[1;32mIn[16], line 1\u001b[0m\n\u001b[1;32m----> 1\u001b[0m \u001b[38;5;28mprint\u001b[39m(\u001b[43mfruites\u001b[49m\u001b[43m[\u001b[49m\u001b[38;5;241;43m0\u001b[39;49m\u001b[43m:\u001b[49m\u001b[38;5;241;43m2\u001b[39;49m\u001b[43m:\u001b[49m\u001b[38;5;241;43m0\u001b[39;49m\u001b[43m]\u001b[49m)\n",
      "\u001b[1;31mValueError\u001b[0m: slice step cannot be zero"
     ]
    }
   ],
   "source": [
    "print(fruites[0:2:0])"
   ]
  },
  {
   "cell_type": "code",
   "execution_count": 17,
   "id": "840b73cd",
   "metadata": {},
   "outputs": [
    {
     "name": "stdout",
     "output_type": "stream",
     "text": [
      "['watermelon', 'pineaple']\n"
     ]
    }
   ],
   "source": [
    "print(fruites[0:2:1])"
   ]
  },
  {
   "cell_type": "code",
   "execution_count": 18,
   "id": "c21d91ea",
   "metadata": {},
   "outputs": [
    {
     "name": "stdout",
     "output_type": "stream",
     "text": [
      "['watermelon']\n"
     ]
    }
   ],
   "source": [
    "print(fruites[0:2:2])"
   ]
  },
  {
   "cell_type": "code",
   "execution_count": 19,
   "id": "b6899bc3",
   "metadata": {},
   "outputs": [
    {
     "name": "stdout",
     "output_type": "stream",
     "text": [
      "['watermelon', 'papaya', 'mango', 'banana']\n"
     ]
    }
   ],
   "source": [
    "print(fruites[0:8:2])"
   ]
  },
  {
   "cell_type": "code",
   "execution_count": null,
   "id": "228acefe",
   "metadata": {},
   "outputs": [],
   "source": []
  }
 ],
 "metadata": {
  "kernelspec": {
   "display_name": "Python 3 (ipykernel)",
   "language": "python",
   "name": "python3"
  },
  "language_info": {
   "codemirror_mode": {
    "name": "ipython",
    "version": 3
   },
   "file_extension": ".py",
   "mimetype": "text/x-python",
   "name": "python",
   "nbconvert_exporter": "python",
   "pygments_lexer": "ipython3",
   "version": "3.10.9"
  }
 },
 "nbformat": 4,
 "nbformat_minor": 5
}
